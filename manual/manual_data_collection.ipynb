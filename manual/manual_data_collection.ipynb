{
 "cells": [
  {
   "cell_type": "code",
   "execution_count": 25,
   "id": "e25395de",
   "metadata": {},
   "outputs": [],
   "source": [
    "import networkx as nx\n",
    "\n",
    "# List of node names\n",
    "node_names = [\n",
    "  \"Ryan Trahan\", \n",
    "  \"Nikola Tesla\", \n",
    "  \"Logan Paul\", \n",
    "  \"Donald Trump\", \n",
    "  \"Donald Trump\", \n",
    "  \"Richard Nixon\", \n",
    "  \"Walt Disney\", \n",
    "  \"Henry Ford II\",\n",
    "  \"Henry Ford\",\n",
    "  \"Luther Burbank\",\n",
    "  \"Helen Keller\",\n",
    "  \"Mark Twain\",\n",
    "  \"Cleopatra\",\n",
    "  \"Julius Caesar\",\n",
    "  \"Octavian\",\n",
    "  \"Herod the Great\",\n",
    "  \"Antipas\",\n",
    "  \"Jesus of Nazareth\",\n",
    "  \"Simon Peter\",\n",
    "  \"Popal Line\",\n",
    "  \"Pope Francis\",\n",
    "  \"Leonardo DiCaprio\",\n",
    "  \"Mark Walhberg\",\n",
    "  \"Diddy\",\n",
    "  'Adolf Hitler', 'Leni Riefenstahl', 'Mick Jagger', 'David Bowie', 'Ryuichi Sakamoto', 'Arto Lindsay', 'Wataru Sasaki', 'Hiroyuki Itoh', 'Hatsune Miku', 'Eminem', 'Dr. Dre', 'Denzel Washington', 'Nelson Mandela', 'Rajiv Gandhi', 'Indira Gandhi', 'Mahatma Gandhi', 'Leonardo da Vinci', 'King Francis I', 'Charles V', 'Michelangelo', 'Giorgio Vasari', 'Cosimo I', 'Cosimo II', 'Galileo', 'Torricelli', 'Borelli', 'Malpighi', 'Robert Hooke', 'Isaac Newton', 'Desaguliers', 'Benjamin Franklin', 'George Washington', 'Lafayette', 'Andrew Jackson', 'Martin Van Buren', 'Abraham Lincoln', 'Frederick Douglass', 'Joseph Douglass', 'Nettie Douglass', 'Kamala Harris', 'Trevor Noah', 'Logan Paul', 'KSI', 'Adolf Hitler', 'Neville Chamberlain', 'George VI', 'Matt Busby', 'Nail Webb', 'Alex Ferguson', 'Ronaldo', 'Irina Shayk', 'Dwayne Johnson', 'Jack Black', 'Steve (Minecraft)']\n",
    "\n",
    "# List of edges as (source, target) pairs using names\n",
    "edges = [\n",
    "    (\"Ryan Trahan\", \"Logan Paul\"),\n",
    "    (\"Logan Paul\", \"Donald Trump\"),\n",
    "    (\"Donald Trump\", \"Richard Nixon\"),\n",
    "    (\"Richard Nixon\", \"Walt Disney\"),\n",
    "    (\"Walt Disney\", \"Henry Ford II\"),\n",
    "    (\"Henry Ford II\", \"Henry Ford\"),\n",
    "    (\"Henry Ford\", \"Luther Burbank\"),\n",
    "    (\"Luther Burbank\", \"Helen Keller\"),\n",
    "    (\"Helen Keller\", \"Mark Twain\"),\n",
    "    (\"Mark Twain\", \"Nikola Tesla\"),\n",
    "    (\"Cleopatra\", \"Julius Caesar\"),\n",
    "    (\"Julius Caesar\", \"Octavian\"),\n",
    "    (\"Octavian\", \"Herod the Great\"),\n",
    "    (\"Herod the Great\", \"Antipas\"),\n",
    "    (\"Antipas\", \"Jesus of Nazareth\"),\n",
    "    (\"Jesus of Nazareth\", \"Simon Peter\"),\n",
    "    (\"Simon Peter\", \"Popal Line\"),\n",
    "    (\"Popal Line\", \"Pope Francis\"),\n",
    "    (\"Pope Francis\", \"Leonardo DiCaprio\"),\n",
    "    (\"Leonardo DiCaprio\", \"Mark Walhberg\"),\n",
    "    (\"Mark Walhberg\", \"Diddy\"),\n",
    "    ('Adolf Hitler', 'Leni Riefenstahl'), ('Leni Riefenstahl', 'Mick Jagger'), ('Mick Jagger', 'David Bowie'), ('David Bowie', 'Ryuichi Sakamoto'), ('Ryuichi Sakamoto', 'Arto Lindsay'), ('Arto Lindsay', 'Wataru Sasaki'), ('Wataru Sasaki', 'Hiroyuki Itoh'), ('Hiroyuki Itoh', 'Hatsune Miku'), ('Eminem', 'Dr. Dre'), ('Dr. Dre', 'Denzel Washington'), ('Denzel Washington', 'Nelson Mandela'), ('Nelson Mandela', 'Rajiv Gandhi'), ('Rajiv Gandhi', 'Indira Gandhi'), ('Indira Gandhi', 'Mahatma Gandhi'), ('Leonardo da Vinci', 'King Francis I'), ('King Francis I', 'Charles V'), ('Charles V', 'Michelangelo'), ('Michelangelo', 'Giorgio Vasari'), ('Giorgio Vasari', 'Cosimo I'), ('Cosimo I', 'Cosimo II'), ('Cosimo II', 'Galileo'), ('Galileo', 'Torricelli'), ('Torricelli', 'Borelli'), ('Borelli', 'Malpighi'), ('Malpighi', 'Robert Hooke'), ('Robert Hooke', 'Isaac Newton'), ('Isaac Newton', 'Desaguliers'), ('Desaguliers', 'Benjamin Franklin'), ('Benjamin Franklin', 'George Washington'), ('George Washington', 'Lafayette'), ('Lafayette', 'Andrew Jackson'), ('Andrew Jackson', 'Martin Van Buren'), ('Martin Van Buren', 'Abraham Lincoln'), ('Abraham Lincoln', 'Frederick Douglass'), ('Frederick Douglass', 'Joseph Douglass'), ('Joseph Douglass', 'Nettie Douglass'), ('Nettie Douglass', 'Kamala Harris'), ('Kamala Harris', 'Trevor Noah'), ('Trevor Noah', 'Logan Paul'), ('Logan Paul', 'KSI'), ('Adolf Hitler', 'Neville Chamberlain'), ('Neville Chamberlain', 'George VI'), ('George VI', 'Matt Busby'), ('Matt Busby', 'Nail Webb'), ('Nail Webb', 'Alex Ferguson'), ('Alex Ferguson', 'Ronaldo'), ('Ronaldo', 'Irina Shayk'), ('Irina Shayk', 'Dwayne Johnson'), ('Dwayne Johnson', 'Jack Black'), ('Jack Black', 'Steve (Minecraft)')]\n",
    "\n",
    "# Create a directed graph\n",
    "G = nx.DiGraph()\n",
    "\n",
    "# Add nodes (optional if all nodes are covered by edges)\n",
    "G.add_nodes_from(node_names)\n",
    "\n",
    "# Add edges\n",
    "G.add_edges_from(edges)\n"
   ]
  },
  {
   "cell_type": "code",
   "execution_count": 26,
   "id": "7d866f6e",
   "metadata": {},
   "outputs": [
    {
     "name": "stdout",
     "output_type": "stream",
     "text": [
      "Ryan Trahan -> Logan Paul -> Donald Trump -> Richard Nixon -> Walt Disney -> Henry Ford II -> Henry Ford -> Luther Burbank -> Helen Keller -> Mark Twain -> Nikola Tesla\n"
     ]
    }
   ],
   "source": [
    "def find_and_print_shortest_paths(graph):\n",
    "    start = \"Ryan Trahan\"\n",
    "    end = \"Nikola Tesla\"\n",
    "    try:\n",
    "        paths = nx.all_shortest_paths(graph, source=start, target=end)\n",
    "        for i, path in enumerate(paths):\n",
    "            print(\" -> \".join(path))\n",
    "            if i == 9:\n",
    "                break\n",
    "    except nx.NetworkXNoPath:\n",
    "        print(f\"No path exists between '{start}' and '{end}'.\")\n",
    "    except nx.NodeNotFound as e:\n",
    "        print(e)\n",
    "\n",
    "# Example usage\n",
    "find_and_print_shortest_paths(G)"
   ]
  },
  {
   "cell_type": "code",
   "execution_count": null,
   "id": "afb4342d",
   "metadata": {},
   "outputs": [],
   "source": []
  },
  {
   "cell_type": "code",
   "execution_count": 23,
   "id": "1efea65f",
   "metadata": {},
   "outputs": [
    {
     "name": "stdout",
     "output_type": "stream",
     "text": [
      "Vertices:\n",
      "['Adolf Hitler', 'Neville Chamberlain', 'George VI', 'Matt Busby', 'Nail Webb', 'Alex Ferguson', 'Ronaldo', 'Irina Shayk', 'Dwayne Johnson', 'Jack Black', 'Steve (Minecraft)']\n",
      "\n",
      "Edges:\n",
      "[('Adolf Hitler', 'Neville Chamberlain'), ('Neville Chamberlain', 'George VI'), ('George VI', 'Matt Busby'), ('Matt Busby', 'Nail Webb'), ('Nail Webb', 'Alex Ferguson'), ('Alex Ferguson', 'Ronaldo'), ('Ronaldo', 'Irina Shayk'), ('Irina Shayk', 'Dwayne Johnson'), ('Dwayne Johnson', 'Jack Black'), ('Jack Black', 'Steve (Minecraft)')]\n"
     ]
    }
   ],
   "source": [
    "# input_names = \"Eminem, Dr. Dre, Denzel Washington, Nelson Mandela, Rajiv Gandhi, Indira Gandhi, Mahatma Gandhi\"\n",
    "input_names = \"Adolf Hitler, Neville Chamberlain, George VI, Matt Busby, Nail Webb, Alex Ferguson, Ronaldo, Irina Shayk, Dwayne Johnson, Jack Black, Steve (Minecraft)\"\n",
    "\n",
    "# Split into list and strip whitespace\n",
    "names = [name.strip() for name in input_names.split(',')]\n",
    "\n",
    "# Create vertex list with quotes\n",
    "vertices = [f\"{name}\" for name in names]\n",
    "\n",
    "# Create edges between adjacent names\n",
    "edges = [(vertices[i], vertices[i+1]) for i in range(len(vertices)-1)]\n",
    "\n",
    "# Output\n",
    "print(\"Vertices:\")\n",
    "print(vertices)\n",
    "print(\"\\nEdges:\")\n",
    "print(edges)"
   ]
  },
  {
   "cell_type": "code",
   "execution_count": null,
   "id": "f3aa0fd0",
   "metadata": {},
   "outputs": [],
   "source": []
  }
 ],
 "metadata": {
  "kernelspec": {
   "display_name": ".venv",
   "language": "python",
   "name": "python3"
  },
  "language_info": {
   "codemirror_mode": {
    "name": "ipython",
    "version": 3
   },
   "file_extension": ".py",
   "mimetype": "text/x-python",
   "name": "python",
   "nbconvert_exporter": "python",
   "pygments_lexer": "ipython3",
   "version": "3.13.2"
  }
 },
 "nbformat": 4,
 "nbformat_minor": 5
}
