{
 "cells": [
  {
   "cell_type": "code",
   "execution_count": null,
   "id": "2e6e0b60",
   "metadata": {},
   "outputs": [],
   "source": [
    "import networkx as nx\n",
    "\n",
    "G_combined = nx.DiGraph()"
   ]
  }
 ],
 "metadata": {
  "language_info": {
   "name": "python"
  }
 },
 "nbformat": 4,
 "nbformat_minor": 5
}
