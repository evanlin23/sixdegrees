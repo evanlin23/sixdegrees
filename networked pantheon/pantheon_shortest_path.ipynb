{
 "cells": [
  {
   "cell_type": "code",
   "execution_count": 2,
   "metadata": {},
   "outputs": [],
   "source": [
    "import pandas as pd\n",
    "import networkx as nx\n",
    "\n",
    "# Read CSVs, replacing commas with dots for decimals\n",
    "nodes_df = pd.read_csv('nodes.csv', sep=';', decimal=',')\n",
    "edges_df = pd.read_csv('edges.csv', sep=';', decimal=',')\n",
    "\n",
    "# Convert Id columns to numeric (int), coercing errors\n",
    "nodes_df['Id'] = pd.to_numeric(nodes_df['Id'], errors='coerce').astype('Int64')\n",
    "edges_df['Source'] = pd.to_numeric(edges_df['Source'], errors='coerce').astype('Int64')\n",
    "edges_df['Target'] = pd.to_numeric(edges_df['Target'], errors='coerce').astype('Int64')\n",
    "\n",
    "# Drop rows with missing IDs\n",
    "nodes_df = nodes_df.dropna(subset=['Id'])\n",
    "edges_df = edges_df.dropna(subset=['Source', 'Target'])\n",
    "\n",
    "# Build the graph\n",
    "G = nx.DiGraph()\n",
    "for _, row in nodes_df.iterrows():\n",
    "    G.add_node(row['Id'])\n",
    "for _, row in edges_df.iterrows():\n",
    "    G.add_edge(row['Source'], row['Target'])\n",
    "\n",
    "# Relabel nodes with names\n",
    "id_to_name = {row['Id']: str(row['Name'].lower()) for _, row in nodes_df.iterrows() if pd.notna(row['Name'])}\n",
    "G_relabelled = nx.relabel_nodes(G, id_to_name, copy=True)\n",
    "\n",
    "nx.write_gexf(G_relabelled, \"pantheon.gexf\")\n"
   ]
  },
  {
   "cell_type": "code",
   "execution_count": 3,
   "id": "08e96b20",
   "metadata": {},
   "outputs": [
    {
     "name": "stdout",
     "output_type": "stream",
     "text": [
      "eisaku sato -> richard nixon -> richard i of england -> patrick stewart -> hayao miyazaki -> osamu tezuka -> akira toriyama -> eiichiro oda\n"
     ]
    }
   ],
   "source": [
    "def find_and_print_shortest_paths(graph):\n",
    "    start = \"Eisaku Sato\"\n",
    "    end = \"Eiichiro Oda\"\n",
    "    start = start.lower()\n",
    "    end = end.lower()\n",
    "    try:\n",
    "        paths = nx.all_shortest_paths(graph, source=start, target=end)\n",
    "        for i, path in enumerate(paths):\n",
    "            print(\" -> \".join(path))\n",
    "            if i == 9:\n",
    "                break\n",
    "    except nx.NetworkXNoPath:\n",
    "        print(f\"No path exists between '{start}' and '{end}'.\")\n",
    "    except nx.NodeNotFound as e:\n",
    "        print(e)\n",
    "\n",
    "# Example usage\n",
    "find_and_print_shortest_paths(G_relabelled)"
   ]
  },
  {
   "cell_type": "code",
   "execution_count": null,
   "id": "29831416",
   "metadata": {},
   "outputs": [],
   "source": []
  }
 ],
 "metadata": {
  "kernelspec": {
   "display_name": ".venv",
   "language": "python",
   "name": "python3"
  },
  "language_info": {
   "codemirror_mode": {
    "name": "ipython",
    "version": 3
   },
   "file_extension": ".py",
   "mimetype": "text/x-python",
   "name": "python",
   "nbconvert_exporter": "python",
   "pygments_lexer": "ipython3",
   "version": "3.13.2"
  }
 },
 "nbformat": 4,
 "nbformat_minor": 5
}
