{
 "cells": [
  {
   "cell_type": "code",
   "execution_count": 1,
   "id": "29a2915d",
   "metadata": {},
   "outputs": [
    {
     "name": "stdout",
     "output_type": "stream",
     "text": [
      "Graph type: <class 'networkx.classes.graph.Graph'>\n",
      "Number of nodes: 391\n",
      "Number of edges: 347\n",
      "Is directed? False\n"
     ]
    }
   ],
   "source": [
    "import networkx as nx\n",
    "\n",
    "G = nx.read_gexf('famous_people_connections.gexf')\n",
    "\n",
    "# Basic info\n",
    "print(f\"Graph type: {type(G)}\")\n",
    "print(f\"Number of nodes: {G.number_of_nodes()}\")\n",
    "print(f\"Number of edges: {G.number_of_edges()}\")\n",
    "print(f\"Is directed? {G.is_directed()}\")\n"
   ]
  },
  {
   "cell_type": "code",
   "execution_count": 2,
   "id": "826addbf",
   "metadata": {},
   "outputs": [
    {
     "name": "stdout",
     "output_type": "stream",
     "text": [
      "Source Leonardo da Vinci not in G\n"
     ]
    }
   ],
   "source": [
    "def find_and_print_shortest_paths(graph):\n",
    "    start = \"Leonardo da Vinci\"\n",
    "    end = \"Frederick Douglass\"\n",
    "    try:\n",
    "        paths = nx.all_shortest_paths(graph, source=start, target=end)\n",
    "        for i, path in enumerate(paths):\n",
    "            print(\" and \".join(path))\n",
    "            if i == 9:\n",
    "                break\n",
    "    except nx.NetworkXNoPath:\n",
    "        print(f\"No path exists between '{start}' and '{end}'.\")\n",
    "    except nx.NodeNotFound as e:\n",
    "        print(e)\n",
    "\n",
    "# Example usage\n",
    "find_and_print_shortest_paths(G)"
   ]
  },
  {
   "cell_type": "code",
   "execution_count": null,
   "id": "da1a580c",
   "metadata": {},
   "outputs": [],
   "source": []
  }
 ],
 "metadata": {
  "kernelspec": {
   "display_name": ".venv",
   "language": "python",
   "name": "python3"
  },
  "language_info": {
   "codemirror_mode": {
    "name": "ipython",
    "version": 3
   },
   "file_extension": ".py",
   "mimetype": "text/x-python",
   "name": "python",
   "nbconvert_exporter": "python",
   "pygments_lexer": "ipython3",
   "version": "3.13.2"
  }
 },
 "nbformat": 4,
 "nbformat_minor": 5
}
